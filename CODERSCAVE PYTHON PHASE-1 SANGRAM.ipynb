{
 "cells": [
  {
   "cell_type": "markdown",
   "id": "9addd705",
   "metadata": {},
   "source": [
    "**<font color='red' size='7' face='Times New Roman'>CODERSCAVE</font>**<br><br>\n",
    "**<font color='red' size='6.5' face='Times New Roman'>DOMAIN: PYTHON DEVELOPMENT</font>**<br><br>\n",
    "**<font color='red' size='6.5' face='Times New Roman'>PHASE-1 TASK SUBMISSION</font>**<br><br>\n",
    "**<font color='red' size='6.5' face='Times New Roman'>SUBMITTED BY - SANGRAM MEHER</font>**\n"
   ]
  },
  {
   "cell_type": "markdown",
   "id": "8b7327d0",
   "metadata": {},
   "source": [
    "<hr style=\"border: 1px dotted black;\">\n"
   ]
  },
  {
   "cell_type": "markdown",
   "id": "2945c438",
   "metadata": {},
   "source": [
    "<font color='green' size='6'><strong><font face='Times New Roman'>1. NORMAL TASK : CALCULATOR</font>\n"
   ]
  },
  {
   "cell_type": "markdown",
   "id": "4c2851f3",
   "metadata": {},
   "source": [
    "<font color='blue' size='4'>\n",
    "The objective of this project is to design and develop a calculator application in Python that allows users to perform basic arithmetic operations such as addition, subtraction, multiplication, and division. The application should provide a user-friendly interface and accurate calculations.\n",
    "</font>\n"
   ]
  },
  {
   "cell_type": "code",
   "execution_count": 7,
   "id": "10b57b94",
   "metadata": {},
   "outputs": [],
   "source": [
    "import tkinter as tk\n",
    "import tkinter.messagebox\n",
    "\n",
    "def create_button(master, text, command, row, column, padx=10, pady=10, width=3):\n",
    "    return tk.Button(master=master, text=text, padx=padx, pady=pady, width=width, command=command).grid(row=row, column=column)\n",
    "\n",
    "def myclick(char):\n",
    "    if char == 'DEL':\n",
    "        current_text = entry.get()\n",
    "        entry.delete(len(current_text) - 1, tk.END)\n",
    "    else:\n",
    "        entry.insert(tk.END, char)\n",
    "\n",
    "def equal():\n",
    "    try:\n",
    "        expression = entry.get()\n",
    "        result = eval(expression)\n",
    "        entry.delete(0, tk.END)\n",
    "        entry.insert(0, round(result, 12))\n",
    "    except Exception as e:\n",
    "        tkinter.messagebox.showinfo(\"Error\", f\"Error: {e}\")\n",
    "\n",
    "def clear():\n",
    "    entry.delete(0, tk.END)\n",
    "\n",
    "def add_bracket():\n",
    "    myclick('(')\n",
    "\n",
    "def add_decimal():\n",
    "    myclick('.')\n",
    "\n",
    "window = tk.Tk()\n",
    "window.title('MY_CALC')\n",
    "\n",
    "frame = tk.Frame(master=window, bg=\"purple\", padx=10, pady=10)\n",
    "frame.pack()\n",
    "\n",
    "entry = tk.Entry(master=frame, relief=tk.SUNKEN, borderwidth=3, width=30)\n",
    "entry.grid(row=0, column=0, columnspan=5, ipady=10, pady=10)\n",
    "\n",
    "buttons = [\n",
    "    ('9', lambda: myclick(9)), ('8', lambda: myclick(8)), ('7', lambda: myclick(7)), ('+', lambda: myclick('+')), ('-', lambda: myclick('-')),\n",
    "    ('6', lambda: myclick(6)), ('5', lambda: myclick(5)), ('4', lambda: myclick(4)), ('*', lambda: myclick('*')), ('/', lambda: myclick('/')),\n",
    "    ('3', lambda: myclick(3)), ('2', lambda: myclick(2)), ('1', lambda: myclick(1)), ('(', add_bracket), (')', lambda: myclick(')')),\n",
    "    ('C', clear), ('DEL', lambda: myclick('DEL')), ('0', lambda: myclick(0)), ('.', add_decimal), ('=', equal)\n",
    "]\n",
    "\n",
    "grid_order = [\n",
    "    (1, 0), (1, 1), (1, 2), (1, 3), (1, 4),\n",
    "    (2, 0), (2, 1), (2, 2), (2, 3), (2, 4),\n",
    "    (3, 0), (3, 1), (3, 2), (3, 3), (3, 4),\n",
    "    (4, 0), (4, 1), (4, 2), (4, 3), (4, 4),\n",
    "    (5, 0), (5, 1), (5, 2), (5, 3), (5, 4)\n",
    "]\n",
    "\n",
    "for (row, col), (label, cmd) in zip(grid_order, buttons):\n",
    "    create_button(frame, label, cmd, row, col)\n",
    "\n",
    "window.mainloop()"
   ]
  },
  {
   "cell_type": "markdown",
   "id": "c1baa5d7",
   "metadata": {},
   "source": [
    "<hr style=\"border: 1px dotted black;\">\n"
   ]
  },
  {
   "cell_type": "markdown",
   "id": "34893d5b",
   "metadata": {},
   "source": [
    "<font color='gold' size='6'><strong><font face='Times New Roman'>2. GOLDEN TASK : RANDOM PASSWORD GENERATOR</font>\n"
   ]
  },
  {
   "cell_type": "markdown",
   "id": "cfb9954a",
   "metadata": {},
   "source": [
    "<font color='blue' size='4'>\n",
    "The objective of this project is to design and develop a random password generator application that allows users to generate strong and secure passwords with various criteria. The application should provide options for password length, character types, and special requirements.\n",
    "</font>"
   ]
  },
  {
   "cell_type": "code",
   "execution_count": 4,
   "id": "2a018003",
   "metadata": {},
   "outputs": [
    {
     "name": "stdout",
     "output_type": "stream",
     "text": [
      "Enter the desired password length (type 'S' to stop): 10\n",
      "Include lowercase letters? (yes/no): no\n",
      "Include uppercase letters? (yes/no): yes\n",
      "Include digits? (yes/no): yes\n",
      "Include special characters? (yes/no): yes\n",
      "Generated Password: K1},7K=6$:\n",
      "Enter the desired password length (type 'S' to stop): 7\n",
      "Include lowercase letters? (yes/no): yes\n",
      "Include uppercase letters? (yes/no): yes\n",
      "Include digits? (yes/no): yes\n",
      "Include special characters? (yes/no): no\n",
      "Generated Password: orGc1YV\n",
      "Enter the desired password length (type 'S' to stop): 1e-3\n",
      "Error: Please enter a valid positive integer for password length or type 'S' to stop.\n",
      "Enter the desired password length (type 'S' to stop): 12\n",
      "Include lowercase letters? (yes/no): yes\n",
      "Include uppercase letters? (yes/no): yes\n",
      "Include digits? (yes/no): yes\n",
      "Include special characters? (yes/no): yes\n",
      "Generated Password: ~5:#y'qRNyFm\n",
      "Enter the desired password length (type 'S' to stop): S\n",
      "Thank you.\n"
     ]
    }
   ],
   "source": [
    "import random\n",
    "import string\n",
    "\n",
    "def generate_password(length, use_lowercase, use_uppercase, use_digits, use_special_chars):\n",
    "    characters = ''\n",
    "    \n",
    "    if use_lowercase:\n",
    "        characters += string.ascii_lowercase\n",
    "    if use_uppercase:\n",
    "        characters += string.ascii_uppercase\n",
    "    if use_digits:\n",
    "        characters += string.digits\n",
    "    if use_special_chars:\n",
    "        characters += string.punctuation\n",
    "\n",
    "    if not characters:\n",
    "        return \"Error: Please select at least one character type.\"\n",
    "\n",
    "    password = [random.choice(characters) for _ in range(length)]\n",
    "\n",
    "    random.shuffle(password)\n",
    "\n",
    "    return ''.join(password)\n",
    "\n",
    "while True:\n",
    "    password_length_str = input(\"Enter the desired password length (type 'S' to stop): \").strip().upper()\n",
    "    \n",
    "    if password_length_str == 'S':\n",
    "        print(\"Thank you.\")\n",
    "        break\n",
    "\n",
    "    try:\n",
    "        password_length = int(password_length_str)\n",
    "        \n",
    "        if password_length <= 0:\n",
    "            raise ValueError\n",
    "\n",
    "        use_lowercase = input(\"Include lowercase letters? (yes/no): \").strip().lower() == 'yes'\n",
    "        use_uppercase = input(\"Include uppercase letters? (yes/no): \").strip().lower() == 'yes'\n",
    "        use_digits = input(\"Include digits? (yes/no): \").strip().lower() == 'yes'\n",
    "        use_special_chars = input(\"Include special characters? (yes/no): \").strip().lower() == 'yes'\n",
    "\n",
    "        password = generate_password(password_length, use_lowercase, use_uppercase, use_digits, use_special_chars)\n",
    "        print(\"Generated Password:\", password)\n",
    "    except ValueError:\n",
    "        print(\"Error: Please enter a valid positive integer for password length or type 'S' to stop.\")\n"
   ]
  },
  {
   "cell_type": "markdown",
   "id": "035a612e",
   "metadata": {},
   "source": [
    "<hr style=\"border: 1px dotted black;\">\n"
   ]
  },
  {
   "cell_type": "markdown",
   "id": "4803f774",
   "metadata": {},
   "source": [
    "<font size='4.5'>\n",
    "    <font color='blue'>\n",
    "        Expressing my heartfelt gratitude to the </font><font color='red'><strong>CODERSCAVE</strong></font><font color='blue'> team for the internship opportunity in Python development, which has been an enlightening journey of growth and discovery.\n",
    "    </font>\n"
   ]
  }
 ],
 "metadata": {
  "kernelspec": {
   "display_name": "Python 3 (ipykernel)",
   "language": "python",
   "name": "python3"
  },
  "language_info": {
   "codemirror_mode": {
    "name": "ipython",
    "version": 3
   },
   "file_extension": ".py",
   "mimetype": "text/x-python",
   "name": "python",
   "nbconvert_exporter": "python",
   "pygments_lexer": "ipython3",
   "version": "3.9.13"
  }
 },
 "nbformat": 4,
 "nbformat_minor": 5
}
